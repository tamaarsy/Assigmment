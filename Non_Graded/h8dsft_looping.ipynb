{
    "cells": [
        {
            "cell_type": "code",
            "execution_count": 5,
            "source": [
                "\n",
                "numbers = [951, 402, 984, 651, 360, 69, 408, 319, 601, 485, 980, 507, 725, 547, 544, 615, 83, 165,\n",
                "           141, 501, 263, 617, 865, 575, 219, 390, 984, 592, 236, 105, 942, 941, 386, 462, 47, 418,\n",
                "           907, 344, 236, 375, 823, 566, 597, 978, 328, 615, 953, 345, 399, 162, 758, 219, 918, 237,\n",
                "           412, 566, 826, 248, 866, 950, 626, 949 ]\n",
                "# menggunakan funtions\n",
                "def loop(l, batas = 918):\n",
                "    for a in range(0, len(l)):\n",
                "        if l[a] % 2 == 0:\n",
                "            print(f'{l[a]} index ke- {a}')\n",
                "            if l[a] == batas:\n",
                "                print(\"done\".upper())\n",
                "                break\n",
                "            \n",
                "loop(numbers)"
            ],
            "outputs": [
                {
                    "output_type": "stream",
                    "name": "stdout",
                    "text": [
                        "402 index ke- 1\n",
                        "984 index ke- 2\n",
                        "360 index ke- 4\n",
                        "408 index ke- 6\n",
                        "980 index ke- 10\n",
                        "544 index ke- 14\n",
                        "390 index ke- 25\n",
                        "984 index ke- 26\n",
                        "592 index ke- 27\n",
                        "236 index ke- 28\n",
                        "942 index ke- 30\n",
                        "386 index ke- 32\n",
                        "462 index ke- 33\n",
                        "418 index ke- 35\n",
                        "344 index ke- 37\n",
                        "236 index ke- 38\n",
                        "566 index ke- 41\n",
                        "978 index ke- 43\n",
                        "328 index ke- 44\n",
                        "162 index ke- 49\n",
                        "758 index ke- 50\n",
                        "918 index ke- 52\n",
                        "DONE\n"
                    ]
                }
            ],
            "metadata": {}
        },
        {
            "cell_type": "code",
            "execution_count": 2,
            "source": [
                "# menggunakan for\n",
                "for a in range(len(numbers)):\n",
                "    if numbers[a] % 2 == 0:\n",
                "        print(numbers[a])\n",
                "        if numbers[a] == 918:\n",
                "            break"
            ],
            "outputs": [
                {
                    "output_type": "stream",
                    "name": "stdout",
                    "text": [
                        "402\n",
                        "984\n",
                        "360\n",
                        "408\n",
                        "980\n",
                        "544\n",
                        "390\n",
                        "984\n",
                        "592\n",
                        "236\n",
                        "942\n",
                        "386\n",
                        "462\n",
                        "418\n",
                        "344\n",
                        "236\n",
                        "566\n",
                        "978\n",
                        "328\n",
                        "162\n",
                        "758\n",
                        "918\n"
                    ]
                }
            ],
            "metadata": {}
        },
        {
            "cell_type": "code",
            "execution_count": 15,
            "source": [
                "#menggunakan while\n",
                "start = 0\n",
                "while len(numbers) > start:\n",
                "    #print(numbers[start])\n",
                "    start +=1\n",
                "    if numbers[start] % 2 == 0:\n",
                "        print(f'{numbers[start]}')\n",
                "        if numbers[start] == 918:\n",
                "            break"
            ],
            "outputs": [
                {
                    "output_type": "stream",
                    "name": "stdout",
                    "text": [
                        "402\n",
                        "984\n",
                        "360\n",
                        "408\n",
                        "980\n",
                        "544\n",
                        "390\n",
                        "984\n",
                        "592\n",
                        "236\n",
                        "942\n",
                        "386\n",
                        "462\n",
                        "418\n",
                        "344\n",
                        "236\n",
                        "566\n",
                        "978\n",
                        "328\n",
                        "162\n",
                        "758\n",
                        "918\n"
                    ]
                }
            ],
            "metadata": {}
        }
    ],
    "metadata": {
        "orig_nbformat": 4,
        "language_info": {
            "name": "python",
            "version": "3.9.5",
            "mimetype": "text/x-python",
            "codemirror_mode": {
                "name": "ipython",
                "version": 3
            },
            "pygments_lexer": "ipython3",
            "nbconvert_exporter": "python",
            "file_extension": ".py"
        },
        "kernelspec": {
            "name": "python3",
            "display_name": "Python 3.9.5 64-bit"
        },
        "interpreter": {
            "hash": "f9f85f796d01129d0dd105a088854619f454435301f6ffec2fea96ecbd9be4ac"
        }
    },
    "nbformat": 4,
    "nbformat_minor": 2
}