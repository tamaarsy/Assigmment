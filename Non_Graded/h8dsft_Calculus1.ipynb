{
 "cells": [
  {
   "cell_type": "code",
   "execution_count": 28,
   "source": [
    "\n",
    "import sympy as sy\n",
    "import numpy as np\n",
    "import matplotlib.pyplot as plt"
   ],
   "outputs": [],
   "metadata": {}
  },
  {
   "cell_type": "markdown",
   "source": [
    "## persamaan pertama"
   ],
   "metadata": {}
  },
  {
   "cell_type": "code",
   "execution_count": 2,
   "source": [
    "#syimbol persamaan pertama\n",
    "x = sy.Symbol('x')\n",
    "y = x**2 + 2*x +1\n",
    "print(y)\n"
   ],
   "outputs": [
    {
     "output_type": "stream",
     "name": "stdout",
     "text": [
      "x**2 + 2*x + 1\n"
     ]
    }
   ],
   "metadata": {}
  },
  {
   "cell_type": "code",
   "execution_count": 3,
   "source": [
    "# turunan pertama dari persamaan y\n",
    "y.diff()"
   ],
   "outputs": [
    {
     "output_type": "execute_result",
     "data": {
      "text/plain": [
       "2*x + 2"
      ],
      "text/latex": [
       "$\\displaystyle 2 x + 2$"
      ]
     },
     "metadata": {},
     "execution_count": 3
    }
   ],
   "metadata": {}
  },
  {
   "cell_type": "code",
   "execution_count": 4,
   "source": [
    "#turunan ke dus persamaan y\n",
    "y.diff().diff()"
   ],
   "outputs": [
    {
     "output_type": "execute_result",
     "data": {
      "text/plain": [
       "2"
      ],
      "text/latex": [
       "$\\displaystyle 2$"
      ]
     },
     "metadata": {},
     "execution_count": 4
    }
   ],
   "metadata": {}
  },
  {
   "cell_type": "code",
   "execution_count": 5,
   "source": [
    "#numerik persamaan y\n",
    "X = np.linspace(-5, 5)\n",
    "Y = X**2 + 2*X +1\n",
    "\n",
    "#nilai x\n",
    "X"
   ],
   "outputs": [
    {
     "output_type": "execute_result",
     "data": {
      "text/plain": [
       "array([-5.        , -4.79591837, -4.59183673, -4.3877551 , -4.18367347,\n",
       "       -3.97959184, -3.7755102 , -3.57142857, -3.36734694, -3.16326531,\n",
       "       -2.95918367, -2.75510204, -2.55102041, -2.34693878, -2.14285714,\n",
       "       -1.93877551, -1.73469388, -1.53061224, -1.32653061, -1.12244898,\n",
       "       -0.91836735, -0.71428571, -0.51020408, -0.30612245, -0.10204082,\n",
       "        0.10204082,  0.30612245,  0.51020408,  0.71428571,  0.91836735,\n",
       "        1.12244898,  1.32653061,  1.53061224,  1.73469388,  1.93877551,\n",
       "        2.14285714,  2.34693878,  2.55102041,  2.75510204,  2.95918367,\n",
       "        3.16326531,  3.36734694,  3.57142857,  3.7755102 ,  3.97959184,\n",
       "        4.18367347,  4.3877551 ,  4.59183673,  4.79591837,  5.        ])"
      ]
     },
     "metadata": {},
     "execution_count": 5
    }
   ],
   "metadata": {}
  },
  {
   "cell_type": "code",
   "execution_count": 6,
   "source": [
    "#tranformasi dari nilai x terhdapa nilai y\n",
    "Y"
   ],
   "outputs": [
    {
     "output_type": "execute_result",
     "data": {
      "text/plain": [
       "array([1.60000000e+01, 1.44089963e+01, 1.29012911e+01, 1.14768846e+01,\n",
       "       1.01357768e+01, 8.87796751e+00, 7.70345689e+00, 6.61224490e+00,\n",
       "       5.60433153e+00, 4.67971678e+00, 3.83840067e+00, 3.08038317e+00,\n",
       "       2.40566431e+00, 1.81424406e+00, 1.30612245e+00, 8.81299459e-01,\n",
       "       5.39775094e-01, 2.81549354e-01, 1.06622241e-01, 1.49937526e-02,\n",
       "       6.66389005e-03, 8.16326531e-02, 2.39900042e-01, 4.81466056e-01,\n",
       "       8.06330696e-01, 1.21449396e+00, 1.70595585e+00, 2.28071637e+00,\n",
       "       2.93877551e+00, 3.68013328e+00, 4.50478967e+00, 5.41274469e+00,\n",
       "       6.40399833e+00, 7.47855060e+00, 8.63640150e+00, 9.87755102e+00,\n",
       "       1.12019992e+01, 1.26097459e+01, 1.41007913e+01, 1.56751354e+01,\n",
       "       1.73327780e+01, 1.90737193e+01, 2.08979592e+01, 2.28054977e+01,\n",
       "       2.47963349e+01, 2.68704706e+01, 2.90279050e+01, 3.12686381e+01,\n",
       "       3.35926697e+01, 3.60000000e+01])"
      ]
     },
     "metadata": {},
     "execution_count": 6
    }
   ],
   "metadata": {}
  },
  {
   "cell_type": "code",
   "execution_count": 7,
   "source": [
    "y1 = y.diff()\n",
    "print(y1)\n",
    "Y1 = 2*X+2\n",
    "#tranformasi nilai x terhadap turunan pertama Y\n",
    "Y1"
   ],
   "outputs": [
    {
     "output_type": "stream",
     "name": "stdout",
     "text": [
      "2*x + 2\n"
     ]
    },
    {
     "output_type": "execute_result",
     "data": {
      "text/plain": [
       "array([-8.        , -7.59183673, -7.18367347, -6.7755102 , -6.36734694,\n",
       "       -5.95918367, -5.55102041, -5.14285714, -4.73469388, -4.32653061,\n",
       "       -3.91836735, -3.51020408, -3.10204082, -2.69387755, -2.28571429,\n",
       "       -1.87755102, -1.46938776, -1.06122449, -0.65306122, -0.24489796,\n",
       "        0.16326531,  0.57142857,  0.97959184,  1.3877551 ,  1.79591837,\n",
       "        2.20408163,  2.6122449 ,  3.02040816,  3.42857143,  3.83673469,\n",
       "        4.24489796,  4.65306122,  5.06122449,  5.46938776,  5.87755102,\n",
       "        6.28571429,  6.69387755,  7.10204082,  7.51020408,  7.91836735,\n",
       "        8.32653061,  8.73469388,  9.14285714,  9.55102041,  9.95918367,\n",
       "       10.36734694, 10.7755102 , 11.18367347, 11.59183673, 12.        ])"
      ]
     },
     "metadata": {},
     "execution_count": 7
    }
   ],
   "metadata": {}
  },
  {
   "cell_type": "code",
   "execution_count": 8,
   "source": [
    "y2 = y1.diff()\n",
    "y2"
   ],
   "outputs": [
    {
     "output_type": "execute_result",
     "data": {
      "text/plain": [
       "2"
      ],
      "text/latex": [
       "$\\displaystyle 2$"
      ]
     },
     "metadata": {},
     "execution_count": 8
    }
   ],
   "metadata": {}
  },
  {
   "cell_type": "markdown",
   "source": [
    "## persamaan kedua"
   ],
   "metadata": {}
  },
  {
   "cell_type": "code",
   "execution_count": 9,
   "source": [
    "# syimbol\n",
    "a = sy.Symbol('x')\n",
    "z = 4*a**3 - 3*a**2 + 2*a - 1\n",
    "z"
   ],
   "outputs": [
    {
     "output_type": "execute_result",
     "data": {
      "text/plain": [
       "4*x**3 - 3*x**2 + 2*x - 1"
      ],
      "text/latex": [
       "$\\displaystyle 4 x^{3} - 3 x^{2} + 2 x - 1$"
      ]
     },
     "metadata": {},
     "execution_count": 9
    }
   ],
   "metadata": {}
  },
  {
   "cell_type": "code",
   "execution_count": 22,
   "source": [
    "# turunan pertama\n",
    "z.diff()"
   ],
   "outputs": [
    {
     "output_type": "execute_result",
     "data": {
      "text/plain": [
       "12*x**2 - 6*x + 2"
      ],
      "text/latex": [
       "$\\displaystyle 12 x^{2} - 6 x + 2$"
      ]
     },
     "metadata": {},
     "execution_count": 22
    }
   ],
   "metadata": {}
  },
  {
   "cell_type": "code",
   "execution_count": 26,
   "source": [
    "# turunan kedua\n",
    "z.diff().diff()"
   ],
   "outputs": [
    {
     "output_type": "execute_result",
     "data": {
      "text/plain": [
       "24*x - 6"
      ],
      "text/latex": [
       "$\\displaystyle 24 x - 6$"
      ]
     },
     "metadata": {},
     "execution_count": 26
    }
   ],
   "metadata": {}
  },
  {
   "cell_type": "code",
   "execution_count": 12,
   "source": [
    "z.diff().diff().diff()"
   ],
   "outputs": [
    {
     "output_type": "execute_result",
     "data": {
      "text/plain": [
       "24"
      ],
      "text/latex": [
       "$\\displaystyle 24$"
      ]
     },
     "metadata": {},
     "execution_count": 12
    }
   ],
   "metadata": {}
  },
  {
   "cell_type": "code",
   "execution_count": 16,
   "source": [
    "# nilai\n",
    "X1 = np.linspace(-10,10)\n",
    "Y1 = 4*X1**3 + 3*X1**2 + 2*X1 - 1\n",
    "\n",
    "#niali X1\n",
    "X1"
   ],
   "outputs": [
    {
     "output_type": "execute_result",
     "data": {
      "text/plain": [
       "array([-10.        ,  -9.59183673,  -9.18367347,  -8.7755102 ,\n",
       "        -8.36734694,  -7.95918367,  -7.55102041,  -7.14285714,\n",
       "        -6.73469388,  -6.32653061,  -5.91836735,  -5.51020408,\n",
       "        -5.10204082,  -4.69387755,  -4.28571429,  -3.87755102,\n",
       "        -3.46938776,  -3.06122449,  -2.65306122,  -2.24489796,\n",
       "        -1.83673469,  -1.42857143,  -1.02040816,  -0.6122449 ,\n",
       "        -0.20408163,   0.20408163,   0.6122449 ,   1.02040816,\n",
       "         1.42857143,   1.83673469,   2.24489796,   2.65306122,\n",
       "         3.06122449,   3.46938776,   3.87755102,   4.28571429,\n",
       "         4.69387755,   5.10204082,   5.51020408,   5.91836735,\n",
       "         6.32653061,   6.73469388,   7.14285714,   7.55102041,\n",
       "         7.95918367,   8.36734694,   8.7755102 ,   9.18367347,\n",
       "         9.59183673,  10.        ])"
      ]
     },
     "metadata": {},
     "execution_count": 16
    }
   ],
   "metadata": {}
  },
  {
   "cell_type": "code",
   "execution_count": 17,
   "source": [
    "#transformasi nilai X1 terhadap Y1\n",
    "Y1"
   ],
   "outputs": [
    {
     "output_type": "execute_result",
     "data": {
      "text/plain": [
       "array([-3.72100000e+03, -3.27409743e+03, -2.86454665e+03, -2.49071568e+03,\n",
       "       -2.15097255e+03, -1.84368528e+03, -1.56722190e+03, -1.31995044e+03,\n",
       "       -1.10023892e+03, -9.06455380e+02, -7.36967837e+02, -5.90144319e+02,\n",
       "       -4.64352855e+02, -3.57961470e+02, -2.69338192e+02, -1.96851048e+02,\n",
       "       -1.38868065e+02, -9.37572695e+01, -5.98866884e+01, -3.56243487e+01,\n",
       "       -1.93382774e+01, -9.39650146e+00, -4.16704774e+00, -2.01794320e+00,\n",
       "       -1.31721477e+00, -4.32889357e-01,  2.26700609e+00,  8.41444466e+00,\n",
       "        1.96413994e+01,  3.75798434e+01,  6.38617498e+01,  1.00119092e+02,\n",
       "        1.47983842e+02,  2.09087974e+02,  2.85063460e+02,  3.77542274e+02,\n",
       "        4.88156389e+02,  6.18537778e+02,  7.70318413e+02,  9.45130269e+02,\n",
       "        1.14460532e+03,  1.37037553e+03,  1.62407289e+03,  1.90732935e+03,\n",
       "        2.22177690e+03,  2.56904751e+03,  2.95077316e+03,  3.36858580e+03,\n",
       "        3.82411743e+03,  4.31900000e+03])"
      ]
     },
     "metadata": {},
     "execution_count": 17
    }
   ],
   "metadata": {}
  },
  {
   "cell_type": "code",
   "execution_count": 24,
   "source": [
    "# tranformasi nilai X1 terhadap turunan pertama Y1\n",
    "Y2 = 12*X1**2 - 6*X1 + 2\n",
    "Y2"
   ],
   "outputs": [
    {
     "output_type": "execute_result",
     "data": {
      "text/plain": [
       "array([1262.        , 1163.59100375, 1069.18034152,  978.76801333,\n",
       "        892.35401916,  809.93835902,  731.5210329 ,  657.10204082,\n",
       "        586.68138276,  520.25905873,  457.83506872,  399.40941274,\n",
       "        344.9820908 ,  294.55310287,  248.12244898,  205.69012911,\n",
       "        167.25614327,  132.82049146,  102.38317368,   75.94418992,\n",
       "         53.50354019,   35.06122449,   20.61724282,   10.17159517,\n",
       "          3.72428155,    1.27530196,    2.82465639,    8.37234486,\n",
       "         17.91836735,   31.46272387,   49.00541441,   70.54643898,\n",
       "         96.08579758,  125.62349021,  159.15951687,  196.69387755,\n",
       "        238.22657226,  283.757601  ,  333.28696377,  386.81466056,\n",
       "        444.34069138,  505.86505623,  571.3877551 ,  640.908788  ,\n",
       "        714.42815494,  791.94585589,  873.46189088,  958.97625989,\n",
       "       1048.48896293, 1142.        ])"
      ]
     },
     "metadata": {},
     "execution_count": 24
    }
   ],
   "metadata": {}
  },
  {
   "cell_type": "code",
   "execution_count": 32,
   "source": [
    "# transformasi nilai X1 terhdapa trunan kedua Y1\n",
    "Y3 = 24*X1 - 6\n",
    "Y3"
   ],
   "outputs": [
    {
     "output_type": "execute_result",
     "data": {
      "text/plain": [
       "array([-246.        , -236.20408163, -226.40816327, -216.6122449 ,\n",
       "       -206.81632653, -197.02040816, -187.2244898 , -177.42857143,\n",
       "       -167.63265306, -157.83673469, -148.04081633, -138.24489796,\n",
       "       -128.44897959, -118.65306122, -108.85714286,  -99.06122449,\n",
       "        -89.26530612,  -79.46938776,  -69.67346939,  -59.87755102,\n",
       "        -50.08163265,  -40.28571429,  -30.48979592,  -20.69387755,\n",
       "        -10.89795918,   -1.10204082,    8.69387755,   18.48979592,\n",
       "         28.28571429,   38.08163265,   47.87755102,   57.67346939,\n",
       "         67.46938776,   77.26530612,   87.06122449,   96.85714286,\n",
       "        106.65306122,  116.44897959,  126.24489796,  136.04081633,\n",
       "        145.83673469,  155.63265306,  165.42857143,  175.2244898 ,\n",
       "        185.02040816,  194.81632653,  204.6122449 ,  214.40816327,\n",
       "        224.20408163,  234.        ])"
      ]
     },
     "metadata": {},
     "execution_count": 32
    }
   ],
   "metadata": {}
  }
 ],
 "metadata": {
  "orig_nbformat": 4,
  "language_info": {
   "name": "python",
   "version": "3.9.5",
   "mimetype": "text/x-python",
   "codemirror_mode": {
    "name": "ipython",
    "version": 3
   },
   "pygments_lexer": "ipython3",
   "nbconvert_exporter": "python",
   "file_extension": ".py"
  },
  "kernelspec": {
   "name": "python3",
   "display_name": "Python 3.9.5 64-bit"
  },
  "interpreter": {
   "hash": "f9f85f796d01129d0dd105a088854619f454435301f6ffec2fea96ecbd9be4ac"
  }
 },
 "nbformat": 4,
 "nbformat_minor": 2
}