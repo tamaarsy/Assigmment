{
 "cells": [
  {
   "cell_type": "markdown",
   "source": [
    "1. Buatlah sebuah function yang dapat mengkoversi suhu kelvi ke celcius, dan sebaliknya"
   ],
   "metadata": {}
  },
  {
   "cell_type": "code",
   "execution_count": null,
   "source": [
    "def converterKC(mode, suhu):\n",
    "    a = {1, 'kelvin', 2, 'celcius'}\n",
    "    \n",
    "    if mode == a[0].key()"
   ],
   "outputs": [],
   "metadata": {}
  }
 ],
 "metadata": {
  "orig_nbformat": 4,
  "language_info": {
   "name": "python",
   "version": "3.9.5",
   "mimetype": "text/x-python",
   "codemirror_mode": {
    "name": "ipython",
    "version": 3
   },
   "pygments_lexer": "ipython3",
   "nbconvert_exporter": "python",
   "file_extension": ".py"
  },
  "kernelspec": {
   "name": "python3",
   "display_name": "Python 3.9.5 64-bit"
  },
  "interpreter": {
   "hash": "f9f85f796d01129d0dd105a088854619f454435301f6ffec2fea96ecbd9be4ac"
  }
 },
 "nbformat": 4,
 "nbformat_minor": 2
}