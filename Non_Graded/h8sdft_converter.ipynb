{
 "cells": [
  {
   "cell_type": "markdown",
   "source": [
    "1. Buatlah sebuah function yang dapat mengkoversi suhu kelvi ke celcius, dan sebaliknya"
   ],
   "metadata": {}
  },
  {
   "cell_type": "code",
   "execution_count": 70,
   "source": [
    "def ulang(modein, nilaiHasil):\n",
    "    ulang = input(f'apakah ingin melanjutkan perubahan ke farenhaid\\ny untuk lanjut n untuk tidak : '.lower())\n",
    "    if ulang == 'y':\n",
    "        mode1 = int(input(f'mode:\\n\\t 1. Celcius ke Fahrenheit\\n\\t 2. Kelvin ke Fahrenheit\\nmasukan mode : '))\n",
    "        if mode1 == 1:\n",
    "            if modein == 1:\n",
    "                akhir = 9/5*nilaiHasil+32\n",
    "                return print(f'Hasil dari {nilaiHasil} celcius ke fahrenheit : {akhir} F')\n",
    "                \n",
    "            else:\n",
    "                print('suhu yang anda masukan bukan Celcius')\n",
    "        \n",
    "        elif mode1 == 2:\n",
    "            if modein ==2:\n",
    "                akhir = 1.8*(nilaiHasil-273.15)+32\n",
    "                return print(f'Hasil dari {nilaiHasil} kelvin ke fahrenheit : {akhir}')\n",
    "            else:\n",
    "                print('suhu yang anda masukan bukan Kelvin')\n",
    "        else:\n",
    "            print('inputan salah')\n",
    "    else:\n",
    "        print('TERIMA KASIH')\n",
    "        \n",
    "#mode pemilihan celcius ke kelvin dan sebaliknya\n",
    "def mode(mode):\n",
    "    if mode == 1:\n",
    "        converter = input('masukan nilai kelfin (K) : ')\n",
    "        return koverC(converter) # memanggil fungsi koverC\n",
    "    elif mode == 2:\n",
    "        converter = input('masukan nilai celcius (C) : ')\n",
    "        return koverK(converter) # memanggil fungsi koverK\n",
    "    else:\n",
    "        print('tidak ada masukan')\n",
    "\n",
    "# fungsi koverC\n",
    "def koverC(nilai):\n",
    "    hasil = float(nilai) + 274.15\n",
    "    print(f'hasil Kelvin ke Celcius : {hasil} C')\n",
    "    return ulang(modein = 1, nilaiHasil = hasil)# memanggil fungsi ulang dan argumen modein 1 agara fungsi ulang mengetahui kalau suhu ini Celcius\n",
    "\n",
    "# fungsi koverK\n",
    "def koverK(nilai):\n",
    "    modein = 2\n",
    "    hasil = float(nilai) - 173.15\n",
    "    print(f'hasil Celcius ke Kelvin : {hasil} K')\n",
    "    return ulang(modein=2, nilaiHasil = hasil)# memanggil fungsi ulang dan argumen modein 1 agara fungsi ulang mengetahui kalau suhu ini kelvin\n",
    "\n",
    "\n",
    "user = int(input(f'mode:\\n\\t 1. kelvin ke celcius\\n\\t 2. celcius ke kevin\\nmasukan mode : '))\n",
    "mode(user)"
   ],
   "outputs": [
    {
     "output_type": "stream",
     "name": "stdout",
     "text": [
      "hasil Kelvin ke Celcius : 297.15 C\n",
      "Hasil dari 297.15 celcius ke fahrenheit : 566.87 F\n"
     ]
    }
   ],
   "metadata": {}
  }
 ],
 "metadata": {
  "orig_nbformat": 4,
  "language_info": {
   "name": "python",
   "version": "3.9.5",
   "mimetype": "text/x-python",
   "codemirror_mode": {
    "name": "ipython",
    "version": 3
   },
   "pygments_lexer": "ipython3",
   "nbconvert_exporter": "python",
   "file_extension": ".py"
  },
  "kernelspec": {
   "name": "python3",
   "display_name": "Python 3.9.5 64-bit"
  },
  "interpreter": {
   "hash": "f9f85f796d01129d0dd105a088854619f454435301f6ffec2fea96ecbd9be4ac"
  }
 },
 "nbformat": 4,
 "nbformat_minor": 2
}