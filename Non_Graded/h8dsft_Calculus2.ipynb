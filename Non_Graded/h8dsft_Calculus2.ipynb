{
 "cells": [
  {
   "cell_type": "code",
   "execution_count": 6,
   "source": [
    "import sympy as sy\n",
    "from scipy import integrate\n",
    "import numpy as np"
   ],
   "outputs": [],
   "metadata": {}
  },
  {
   "cell_type": "code",
   "execution_count": 7,
   "source": [
    "# integral fungsi pertama\n",
    "x = sy.Symbol('x')\n",
    "f = 3*x**2 - 6*x + 3"
   ],
   "outputs": [],
   "metadata": {}
  },
  {
   "cell_type": "code",
   "execution_count": 8,
   "source": [
    "sy.integrate(f)"
   ],
   "outputs": [
    {
     "output_type": "execute_result",
     "data": {
      "text/plain": [
       "x**3 - 3*x**2 + 3*x"
      ],
      "text/latex": [
       "$\\displaystyle x^{3} - 3 x^{2} + 3 x$"
      ]
     },
     "metadata": {},
     "execution_count": 8
    }
   ],
   "metadata": {}
  },
  {
   "cell_type": "code",
   "execution_count": 10,
   "source": [
    "# integral sungsi ke dua\n",
    "f1 = 8*x**3 - x**2 + 5*x -1\n",
    "sy.integrate(f1)"
   ],
   "outputs": [
    {
     "output_type": "execute_result",
     "data": {
      "text/plain": [
       "2*x**4 - x**3/3 + 5*x**2/2 - x"
      ],
      "text/latex": [
       "$\\displaystyle 2 x^{4} - \\frac{x^{3}}{3} + \\frac{5 x^{2}}{2} - x$"
      ]
     },
     "metadata": {},
     "execution_count": 10
    }
   ],
   "metadata": {}
  },
  {
   "cell_type": "markdown",
   "source": [
    "## nilai"
   ],
   "metadata": {}
  },
  {
   "cell_type": "code",
   "execution_count": 14,
   "source": [
    "# intragral fungsi f dengan batas bawah 4 dan batas atas 8 menggunakan quad\n",
    "def f(X):\n",
    "    return 3*X**2 - 6*X + 3\n",
    "A = integrate.quad(f, 4, 8)\n",
    "\n",
    "A"
   ],
   "outputs": [
    {
     "output_type": "execute_result",
     "data": {
      "text/plain": [
       "(316.0, 3.5083047578154947e-12)"
      ]
     },
     "metadata": {},
     "execution_count": 14
    }
   ],
   "metadata": {}
  },
  {
   "cell_type": "code",
   "execution_count": 16,
   "source": [
    "# integral fungsi pertama f dengan array\n",
    "\n",
    "x = np.linspace(1, 10)\n",
    "y = f(x)\n",
    "\n",
    "B = integrate.trapz(y, x)\n",
    "B"
   ],
   "outputs": [
    {
     "output_type": "execute_result",
     "data": {
      "text/plain": [
       "729.1518117451062"
      ]
     },
     "metadata": {},
     "execution_count": 16
    }
   ],
   "metadata": {}
  },
  {
   "cell_type": "code",
   "execution_count": 19,
   "source": [
    "# integral fungsi ke dua dengan batas bawah 4 dan bata bawah 8\n",
    "def f1(X):\n",
    "    return 8*X**3 - X**2 + 5*X -1\n",
    "\n",
    "A1  = integrate.quad(f1, 4, 8)\n",
    "A1"
   ],
   "outputs": [
    {
     "output_type": "execute_result",
     "data": {
      "text/plain": [
       "(7646.666666666666, 8.48950539496703e-11)"
      ]
     },
     "metadata": {},
     "execution_count": 19
    }
   ],
   "metadata": {}
  },
  {
   "cell_type": "code",
   "execution_count": 21,
   "source": [
    "# integral fungsi kedua dengan menggunakan array\n",
    "x1 = np.linspace(1, 10)\n",
    "y1 = f1(x1)\n",
    "\n",
    "B1 = integrate.trapz(y, x)\n",
    "B1"
   ],
   "outputs": [
    {
     "output_type": "execute_result",
     "data": {
      "text/plain": [
       "729.1518117451062"
      ]
     },
     "metadata": {},
     "execution_count": 21
    }
   ],
   "metadata": {}
  }
 ],
 "metadata": {
  "orig_nbformat": 4,
  "language_info": {
   "name": "python",
   "version": "3.9.5",
   "mimetype": "text/x-python",
   "codemirror_mode": {
    "name": "ipython",
    "version": 3
   },
   "pygments_lexer": "ipython3",
   "nbconvert_exporter": "python",
   "file_extension": ".py"
  },
  "kernelspec": {
   "name": "python3",
   "display_name": "Python 3.9.5 64-bit"
  },
  "interpreter": {
   "hash": "f9f85f796d01129d0dd105a088854619f454435301f6ffec2fea96ecbd9be4ac"
  }
 },
 "nbformat": 4,
 "nbformat_minor": 2
}